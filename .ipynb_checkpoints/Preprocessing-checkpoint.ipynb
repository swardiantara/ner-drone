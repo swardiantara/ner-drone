{
 "cells": [
  {
   "cell_type": "code",
   "execution_count": null,
   "metadata": {},
   "outputs": [],
   "source": [
    "# Proses mendapatkan data test dari unique sentence train data"
   ]
  },
  {
   "cell_type": "code",
   "execution_count": 10,
   "metadata": {},
   "outputs": [],
   "source": [
    "import pandas as pd\n",
    "import numpy as np"
   ]
  },
  {
   "cell_type": "code",
   "execution_count": 11,
   "metadata": {},
   "outputs": [
    {
     "data": {
      "text/plain": [
       "(3678, 3)"
      ]
     },
     "execution_count": 11,
     "metadata": {},
     "output_type": "execute_result"
    }
   ],
   "source": [
    "dataset_path = './dataset/ner_drone_train_2.csv'\n",
    "dataset = pd.read_csv(dataset_path, encoding= 'unicode_escape')\n",
    "dataset.shape"
   ]
  },
  {
   "cell_type": "code",
   "execution_count": 12,
   "metadata": {},
   "outputs": [
    {
     "data": {
      "text/html": [
       "<div>\n",
       "<style scoped>\n",
       "    .dataframe tbody tr th:only-of-type {\n",
       "        vertical-align: middle;\n",
       "    }\n",
       "\n",
       "    .dataframe tbody tr th {\n",
       "        vertical-align: top;\n",
       "    }\n",
       "\n",
       "    .dataframe thead th {\n",
       "        text-align: right;\n",
       "    }\n",
       "</style>\n",
       "<table border=\"1\" class=\"dataframe\">\n",
       "  <thead>\n",
       "    <tr style=\"text-align: right;\">\n",
       "      <th></th>\n",
       "      <th>sentence_idx</th>\n",
       "      <th>word</th>\n",
       "      <th>tag</th>\n",
       "      <th>sentence</th>\n",
       "      <th>word_labels</th>\n",
       "    </tr>\n",
       "  </thead>\n",
       "  <tbody>\n",
       "    <tr>\n",
       "      <th>0</th>\n",
       "      <td>1</td>\n",
       "      <td>Taking</td>\n",
       "      <td>B-ACT</td>\n",
       "      <td>Taking Off</td>\n",
       "      <td>B-ACT,I-ACT</td>\n",
       "    </tr>\n",
       "    <tr>\n",
       "      <th>1</th>\n",
       "      <td>1</td>\n",
       "      <td>Off</td>\n",
       "      <td>I-ACT</td>\n",
       "      <td>Taking Off</td>\n",
       "      <td>B-ACT,I-ACT</td>\n",
       "    </tr>\n",
       "    <tr>\n",
       "      <th>2</th>\n",
       "      <td>2</td>\n",
       "      <td>Taking</td>\n",
       "      <td>B-ACT</td>\n",
       "      <td>Taking Off</td>\n",
       "      <td>B-ACT,I-ACT</td>\n",
       "    </tr>\n",
       "    <tr>\n",
       "      <th>3</th>\n",
       "      <td>2</td>\n",
       "      <td>Off</td>\n",
       "      <td>I-ACT</td>\n",
       "      <td>Taking Off</td>\n",
       "      <td>B-ACT,I-ACT</td>\n",
       "    </tr>\n",
       "    <tr>\n",
       "      <th>4</th>\n",
       "      <td>3</td>\n",
       "      <td>Taking</td>\n",
       "      <td>B-ACT</td>\n",
       "      <td>Taking Off</td>\n",
       "      <td>B-ACT,I-ACT</td>\n",
       "    </tr>\n",
       "  </tbody>\n",
       "</table>\n",
       "</div>"
      ],
      "text/plain": [
       "   sentence_idx    word    tag    sentence  word_labels\n",
       "0             1  Taking  B-ACT  Taking Off  B-ACT,I-ACT\n",
       "1             1     Off  I-ACT  Taking Off  B-ACT,I-ACT\n",
       "2             2  Taking  B-ACT  Taking Off  B-ACT,I-ACT\n",
       "3             2     Off  I-ACT  Taking Off  B-ACT,I-ACT\n",
       "4             3  Taking  B-ACT  Taking Off  B-ACT,I-ACT"
      ]
     },
     "execution_count": 12,
     "metadata": {},
     "output_type": "execute_result"
    }
   ],
   "source": [
    "# let's create a new column called \"sentence\" which groups the words by sentence \n",
    "dataset['sentence'] = dataset[['sentence_idx','word','tag']].groupby(['sentence_idx'])['word'].transform(lambda x: ' '.join(x))\n",
    "# let's also create a new column called \"word_labels\" which groups the tags by sentence \n",
    "dataset['word_labels'] = dataset[['sentence_idx','word','tag']].groupby(['sentence_idx'])['tag'].transform(lambda x: ','.join(x))\n",
    "dataset.head()"
   ]
  },
  {
   "cell_type": "code",
   "execution_count": 13,
   "metadata": {},
   "outputs": [
    {
     "data": {
      "text/html": [
       "<div>\n",
       "<style scoped>\n",
       "    .dataframe tbody tr th:only-of-type {\n",
       "        vertical-align: middle;\n",
       "    }\n",
       "\n",
       "    .dataframe tbody tr th {\n",
       "        vertical-align: top;\n",
       "    }\n",
       "\n",
       "    .dataframe thead th {\n",
       "        text-align: right;\n",
       "    }\n",
       "</style>\n",
       "<table border=\"1\" class=\"dataframe\">\n",
       "  <thead>\n",
       "    <tr style=\"text-align: right;\">\n",
       "      <th></th>\n",
       "      <th>sentence</th>\n",
       "      <th>word_labels</th>\n",
       "    </tr>\n",
       "  </thead>\n",
       "  <tbody>\n",
       "    <tr>\n",
       "      <th>0</th>\n",
       "      <td>Taking Off</td>\n",
       "      <td>B-ACT,I-ACT</td>\n",
       "    </tr>\n",
       "    <tr>\n",
       "      <th>1</th>\n",
       "      <td>Home Point Recorded RTH Altitude 30m</td>\n",
       "      <td>O,O,O,B-ACT,O,O</td>\n",
       "    </tr>\n",
       "    <tr>\n",
       "      <th>2</th>\n",
       "      <td>Camera Settings Adjusted to ActiveTrack</td>\n",
       "      <td>B-CMP,B-FNC,O,O,O</td>\n",
       "    </tr>\n",
       "    <tr>\n",
       "      <th>3</th>\n",
       "      <td>Your palm is too far away from the aircraft Pl...</td>\n",
       "      <td>O,O,O,O,O,O,O,O,B-CMP,O,O,O</td>\n",
       "    </tr>\n",
       "    <tr>\n",
       "      <th>4</th>\n",
       "      <td>Your palm is too close to the aircraft Please ...</td>\n",
       "      <td>O,O,O,O,O,O,O,B-CMP,O,O,O,O</td>\n",
       "    </tr>\n",
       "  </tbody>\n",
       "</table>\n",
       "</div>"
      ],
      "text/plain": [
       "                                            sentence  \\\n",
       "0                                         Taking Off   \n",
       "1               Home Point Recorded RTH Altitude 30m   \n",
       "2            Camera Settings Adjusted to ActiveTrack   \n",
       "3  Your palm is too far away from the aircraft Pl...   \n",
       "4  Your palm is too close to the aircraft Please ...   \n",
       "\n",
       "                   word_labels  \n",
       "0                  B-ACT,I-ACT  \n",
       "1              O,O,O,B-ACT,O,O  \n",
       "2            B-CMP,B-FNC,O,O,O  \n",
       "3  O,O,O,O,O,O,O,O,B-CMP,O,O,O  \n",
       "4  O,O,O,O,O,O,O,B-CMP,O,O,O,O  "
      ]
     },
     "execution_count": 13,
     "metadata": {},
     "output_type": "execute_result"
    }
   ],
   "source": [
    "data_test = dataset[[\"sentence\", \"word_labels\"]].drop_duplicates().reset_index(drop=True)\n",
    "data_test.head()"
   ]
  },
  {
   "cell_type": "code",
   "execution_count": 14,
   "metadata": {},
   "outputs": [
    {
     "data": {
      "text/plain": [
       "(101, 2)"
      ]
     },
     "execution_count": 14,
     "metadata": {},
     "output_type": "execute_result"
    }
   ],
   "source": [
    "data_test.shape"
   ]
  },
  {
   "cell_type": "code",
   "execution_count": 15,
   "metadata": {},
   "outputs": [
    {
     "name": "stdout",
     "output_type": "stream",
     "text": [
      "Forward Obstacle Sensing not Responding\n",
      "O,B-FNC,I-FNC,O,O\n"
     ]
    }
   ],
   "source": [
    "print(data_test.loc[98, 'sentence'])\n",
    "print(data_test.loc[98, 'word_labels'])"
   ]
  },
  {
   "cell_type": "code",
   "execution_count": 16,
   "metadata": {},
   "outputs": [
    {
     "data": {
      "text/html": [
       "<div>\n",
       "<style scoped>\n",
       "    .dataframe tbody tr th:only-of-type {\n",
       "        vertical-align: middle;\n",
       "    }\n",
       "\n",
       "    .dataframe tbody tr th {\n",
       "        vertical-align: top;\n",
       "    }\n",
       "\n",
       "    .dataframe thead th {\n",
       "        text-align: right;\n",
       "    }\n",
       "</style>\n",
       "<table border=\"1\" class=\"dataframe\">\n",
       "  <thead>\n",
       "    <tr style=\"text-align: right;\">\n",
       "      <th></th>\n",
       "      <th>sentence</th>\n",
       "      <th>word_labels</th>\n",
       "    </tr>\n",
       "  </thead>\n",
       "  <tbody>\n",
       "    <tr>\n",
       "      <th>0</th>\n",
       "      <td>Taking Off</td>\n",
       "      <td>B-ACT,I-ACT</td>\n",
       "    </tr>\n",
       "    <tr>\n",
       "      <th>1</th>\n",
       "      <td>Home Point Recorded RTH Altitude 30m</td>\n",
       "      <td>O,O,O,B-ACT,O,O</td>\n",
       "    </tr>\n",
       "    <tr>\n",
       "      <th>2</th>\n",
       "      <td>Camera Settings Adjusted to ActiveTrack</td>\n",
       "      <td>B-CMP,B-FNC,O,O,O</td>\n",
       "    </tr>\n",
       "    <tr>\n",
       "      <th>3</th>\n",
       "      <td>Your palm is too far away from the aircraft Pl...</td>\n",
       "      <td>O,O,O,O,O,O,O,O,B-CMP,O,O,O</td>\n",
       "    </tr>\n",
       "    <tr>\n",
       "      <th>4</th>\n",
       "      <td>Your palm is too close to the aircraft Please ...</td>\n",
       "      <td>O,O,O,O,O,O,O,B-CMP,O,O,O,O</td>\n",
       "    </tr>\n",
       "    <tr>\n",
       "      <th>...</th>\n",
       "      <td>...</td>\n",
       "      <td>...</td>\n",
       "    </tr>\n",
       "    <tr>\n",
       "      <th>96</th>\n",
       "      <td>Aircraft is returning to the Home Point Minimu...</td>\n",
       "      <td>B-CMP,O,O,O,O,O,O,O,B-ACT,O,O,O,O,O,O,O,B-ACT,...</td>\n",
       "    </tr>\n",
       "    <tr>\n",
       "      <th>97</th>\n",
       "      <td>Locating Landing Point</td>\n",
       "      <td>O,B-ACT,O</td>\n",
       "    </tr>\n",
       "    <tr>\n",
       "      <th>98</th>\n",
       "      <td>Forward Obstacle Sensing not Responding</td>\n",
       "      <td>O,B-FNC,I-FNC,O,O</td>\n",
       "    </tr>\n",
       "    <tr>\n",
       "      <th>99</th>\n",
       "      <td>Compass Redundancy Switch</td>\n",
       "      <td>B-CMP,O,O</td>\n",
       "    </tr>\n",
       "    <tr>\n",
       "      <th>100</th>\n",
       "      <td>Aircraft is returning to the Home Point Minimu...</td>\n",
       "      <td>B-CMP,O,O,O,O,O,O,O,B-ACT,O,O,O,O,O,O,B-ACT,O,...</td>\n",
       "    </tr>\n",
       "  </tbody>\n",
       "</table>\n",
       "<p>101 rows × 2 columns</p>\n",
       "</div>"
      ],
      "text/plain": [
       "                                              sentence  \\\n",
       "0                                           Taking Off   \n",
       "1                 Home Point Recorded RTH Altitude 30m   \n",
       "2              Camera Settings Adjusted to ActiveTrack   \n",
       "3    Your palm is too far away from the aircraft Pl...   \n",
       "4    Your palm is too close to the aircraft Please ...   \n",
       "..                                                 ...   \n",
       "96   Aircraft is returning to the Home Point Minimu...   \n",
       "97                              Locating Landing Point   \n",
       "98             Forward Obstacle Sensing not Responding   \n",
       "99                           Compass Redundancy Switch   \n",
       "100  Aircraft is returning to the Home Point Minimu...   \n",
       "\n",
       "                                           word_labels  \n",
       "0                                          B-ACT,I-ACT  \n",
       "1                                      O,O,O,B-ACT,O,O  \n",
       "2                                    B-CMP,B-FNC,O,O,O  \n",
       "3                          O,O,O,O,O,O,O,O,B-CMP,O,O,O  \n",
       "4                          O,O,O,O,O,O,O,B-CMP,O,O,O,O  \n",
       "..                                                 ...  \n",
       "96   B-CMP,O,O,O,O,O,O,O,B-ACT,O,O,O,O,O,O,O,B-ACT,...  \n",
       "97                                           O,B-ACT,O  \n",
       "98                                   O,B-FNC,I-FNC,O,O  \n",
       "99                                           B-CMP,O,O  \n",
       "100  B-CMP,O,O,O,O,O,O,O,B-ACT,O,O,O,O,O,O,B-ACT,O,...  \n",
       "\n",
       "[101 rows x 2 columns]"
      ]
     },
     "execution_count": 16,
     "metadata": {},
     "output_type": "execute_result"
    }
   ],
   "source": [
    "data_test"
   ]
  },
  {
   "cell_type": "code",
   "execution_count": 21,
   "metadata": {},
   "outputs": [],
   "source": [
    "def buildDataFrame(groupedData):\n",
    "  word_list = []\n",
    "  tag_list = []\n",
    "  sentence_list = []\n",
    "  for sentence in range(0, groupedData.shape[0]):\n",
    "    words = groupedData.loc[sentence, 'sentence'].split()\n",
    "    tags = groupedData.loc[sentence, 'word_labels'].split(',')\n",
    "    sentence_array = [sentence + 1] * len(words)\n",
    "    sentence_list = sentence_list + sentence_array\n",
    "    word_list = word_list + words\n",
    "    tag_list = tag_list + tags\n",
    "    # print(sentence_list, word_list, tag_list)\n",
    "    if(len(words) != len(tags)):\n",
    "      print(groupedData.loc[sentence])\n",
    "    # print(len(sentence_list))\n",
    "    # print(len(word_list))\n",
    "    # print(len(tag_list))\n",
    "  dataFrame = pd.DataFrame({'sentence_idx': sentence_list, 'sentence': word_list, 'word_labels': tag_list})\n",
    "  # return sentence_list, word_list, tag_list\n",
    "  return dataFrame"
   ]
  },
  {
   "cell_type": "code",
   "execution_count": 22,
   "metadata": {},
   "outputs": [
    {
     "data": {
      "text/html": [
       "<div>\n",
       "<style scoped>\n",
       "    .dataframe tbody tr th:only-of-type {\n",
       "        vertical-align: middle;\n",
       "    }\n",
       "\n",
       "    .dataframe tbody tr th {\n",
       "        vertical-align: top;\n",
       "    }\n",
       "\n",
       "    .dataframe thead th {\n",
       "        text-align: right;\n",
       "    }\n",
       "</style>\n",
       "<table border=\"1\" class=\"dataframe\">\n",
       "  <thead>\n",
       "    <tr style=\"text-align: right;\">\n",
       "      <th></th>\n",
       "      <th>sentence_idx</th>\n",
       "      <th>sentence</th>\n",
       "      <th>word_labels</th>\n",
       "    </tr>\n",
       "  </thead>\n",
       "  <tbody>\n",
       "    <tr>\n",
       "      <th>0</th>\n",
       "      <td>1</td>\n",
       "      <td>Taking</td>\n",
       "      <td>B-ACT</td>\n",
       "    </tr>\n",
       "    <tr>\n",
       "      <th>1</th>\n",
       "      <td>1</td>\n",
       "      <td>Off</td>\n",
       "      <td>I-ACT</td>\n",
       "    </tr>\n",
       "    <tr>\n",
       "      <th>2</th>\n",
       "      <td>2</td>\n",
       "      <td>Home</td>\n",
       "      <td>O</td>\n",
       "    </tr>\n",
       "    <tr>\n",
       "      <th>3</th>\n",
       "      <td>2</td>\n",
       "      <td>Point</td>\n",
       "      <td>O</td>\n",
       "    </tr>\n",
       "    <tr>\n",
       "      <th>4</th>\n",
       "      <td>2</td>\n",
       "      <td>Recorded</td>\n",
       "      <td>O</td>\n",
       "    </tr>\n",
       "    <tr>\n",
       "      <th>...</th>\n",
       "      <td>...</td>\n",
       "      <td>...</td>\n",
       "      <td>...</td>\n",
       "    </tr>\n",
       "    <tr>\n",
       "      <th>853</th>\n",
       "      <td>101</td>\n",
       "      <td>Controller</td>\n",
       "      <td>B-CMP</td>\n",
       "    </tr>\n",
       "    <tr>\n",
       "      <th>854</th>\n",
       "      <td>101</td>\n",
       "      <td>Settings</td>\n",
       "      <td>B-FNC</td>\n",
       "    </tr>\n",
       "    <tr>\n",
       "      <th>855</th>\n",
       "      <td>101</td>\n",
       "      <td>after</td>\n",
       "      <td>O</td>\n",
       "    </tr>\n",
       "    <tr>\n",
       "      <th>856</th>\n",
       "      <td>101</td>\n",
       "      <td>cancelling</td>\n",
       "      <td>O</td>\n",
       "    </tr>\n",
       "    <tr>\n",
       "      <th>857</th>\n",
       "      <td>101</td>\n",
       "      <td>RTH</td>\n",
       "      <td>B-ACT</td>\n",
       "    </tr>\n",
       "  </tbody>\n",
       "</table>\n",
       "<p>858 rows × 3 columns</p>\n",
       "</div>"
      ],
      "text/plain": [
       "     sentence_idx    sentence word_labels\n",
       "0               1      Taking       B-ACT\n",
       "1               1         Off       I-ACT\n",
       "2               2        Home           O\n",
       "3               2       Point           O\n",
       "4               2    Recorded           O\n",
       "..            ...         ...         ...\n",
       "853           101  Controller       B-CMP\n",
       "854           101    Settings       B-FNC\n",
       "855           101       after           O\n",
       "856           101  cancelling           O\n",
       "857           101         RTH       B-ACT\n",
       "\n",
       "[858 rows x 3 columns]"
      ]
     },
     "execution_count": 22,
     "metadata": {},
     "output_type": "execute_result"
    }
   ],
   "source": [
    "data_test_word = buildDataFrame(data_test)\n",
    "data_test_word"
   ]
  },
  {
   "cell_type": "code",
   "execution_count": 23,
   "metadata": {},
   "outputs": [],
   "source": [
    "data_test_word.to_csv('./dataset/ner_drone_test_2.csv', index=False)"
   ]
  },
  {
   "cell_type": "code",
   "execution_count": null,
   "metadata": {},
   "outputs": [],
   "source": []
  }
 ],
 "metadata": {
  "kernelspec": {
   "display_name": "Python 3",
   "language": "python",
   "name": "python3"
  },
  "language_info": {
   "codemirror_mode": {
    "name": "ipython",
    "version": 3
   },
   "file_extension": ".py",
   "mimetype": "text/x-python",
   "name": "python",
   "nbconvert_exporter": "python",
   "pygments_lexer": "ipython3",
   "version": "3.6.10"
  }
 },
 "nbformat": 4,
 "nbformat_minor": 4
}
