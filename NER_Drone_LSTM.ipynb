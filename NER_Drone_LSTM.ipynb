{
 "cells": [
  {
   "cell_type": "markdown",
   "metadata": {
    "colab_type": "text",
    "id": "view-in-github"
   },
   "source": [
    "<a href=\"https://colab.research.google.com/github/swardiantara/ner-drone/blob/main/NER_Drone.ipynb\" target=\"_parent\"><img src=\"https://colab.research.google.com/assets/colab-badge.svg\" alt=\"Open In Colab\"/></a>"
   ]
  },
  {
   "cell_type": "code",
   "execution_count": 16,
   "metadata": {
    "id": "5EtlBmaWdQEF"
   },
   "outputs": [],
   "source": [
    "import tensorflow as tf\n",
    "import pandas as pd\n",
    "import numpy as np"
   ]
  },
  {
   "cell_type": "code",
   "execution_count": 17,
   "metadata": {
    "colab": {
     "base_uri": "https://localhost:8080/"
    },
    "id": "ZEwN5WW0eEJN",
    "outputId": "842256b0-766d-4d67-cf31-ec34b4e1b273"
   },
   "outputs": [
    {
     "data": {
      "text/plain": [
       "(3678, 3)"
      ]
     },
     "execution_count": 17,
     "metadata": {},
     "output_type": "execute_result"
    }
   ],
   "source": [
    "dataset_path = './dataset/ner_drone_train_2.csv'\n",
    "data_test_path = './dataset/ner_drone_test_2.csv'\n",
    "dataset_train = pd.read_csv(dataset_path, encoding= 'unicode_escape')\n",
    "dataset_test = pd.read_csv(data_test_path, encoding= 'unicode_escape')\n",
    "dataset_train.shape"
   ]
  },
  {
   "cell_type": "code",
   "execution_count": 18,
   "metadata": {
    "colab": {
     "base_uri": "https://localhost:8080/",
     "height": 424
    },
    "id": "pdQ7Sdbl-Tde",
    "outputId": "b0bb58ea-4d52-4c09-cadd-00143fd808dc"
   },
   "outputs": [
    {
     "data": {
      "text/html": [
       "<div>\n",
       "<style scoped>\n",
       "    .dataframe tbody tr th:only-of-type {\n",
       "        vertical-align: middle;\n",
       "    }\n",
       "\n",
       "    .dataframe tbody tr th {\n",
       "        vertical-align: top;\n",
       "    }\n",
       "\n",
       "    .dataframe thead th {\n",
       "        text-align: right;\n",
       "    }\n",
       "</style>\n",
       "<table border=\"1\" class=\"dataframe\">\n",
       "  <thead>\n",
       "    <tr style=\"text-align: right;\">\n",
       "      <th></th>\n",
       "      <th>sentence_idx</th>\n",
       "      <th>word</th>\n",
       "      <th>tag</th>\n",
       "    </tr>\n",
       "  </thead>\n",
       "  <tbody>\n",
       "    <tr>\n",
       "      <th>0</th>\n",
       "      <td>1</td>\n",
       "      <td>Taking</td>\n",
       "      <td>B-ACT</td>\n",
       "    </tr>\n",
       "    <tr>\n",
       "      <th>1</th>\n",
       "      <td>1</td>\n",
       "      <td>Off</td>\n",
       "      <td>I-ACT</td>\n",
       "    </tr>\n",
       "    <tr>\n",
       "      <th>2</th>\n",
       "      <td>2</td>\n",
       "      <td>Taking</td>\n",
       "      <td>B-ACT</td>\n",
       "    </tr>\n",
       "    <tr>\n",
       "      <th>3</th>\n",
       "      <td>2</td>\n",
       "      <td>Off</td>\n",
       "      <td>I-ACT</td>\n",
       "    </tr>\n",
       "    <tr>\n",
       "      <th>4</th>\n",
       "      <td>3</td>\n",
       "      <td>Taking</td>\n",
       "      <td>B-ACT</td>\n",
       "    </tr>\n",
       "    <tr>\n",
       "      <th>...</th>\n",
       "      <td>...</td>\n",
       "      <td>...</td>\n",
       "      <td>...</td>\n",
       "    </tr>\n",
       "    <tr>\n",
       "      <th>3673</th>\n",
       "      <td>672</td>\n",
       "      <td>will</td>\n",
       "      <td>O</td>\n",
       "    </tr>\n",
       "    <tr>\n",
       "      <th>3674</th>\n",
       "      <td>672</td>\n",
       "      <td>be</td>\n",
       "      <td>O</td>\n",
       "    </tr>\n",
       "    <tr>\n",
       "      <th>3675</th>\n",
       "      <td>672</td>\n",
       "      <td>disabled</td>\n",
       "      <td>O</td>\n",
       "    </tr>\n",
       "    <tr>\n",
       "      <th>3676</th>\n",
       "      <td>672</td>\n",
       "      <td>in</td>\n",
       "      <td>O</td>\n",
       "    </tr>\n",
       "    <tr>\n",
       "      <th>3677</th>\n",
       "      <td>672</td>\n",
       "      <td>landing</td>\n",
       "      <td>B-ACT</td>\n",
       "    </tr>\n",
       "  </tbody>\n",
       "</table>\n",
       "<p>3678 rows × 3 columns</p>\n",
       "</div>"
      ],
      "text/plain": [
       "      sentence_idx      word    tag\n",
       "0                1    Taking  B-ACT\n",
       "1                1       Off  I-ACT\n",
       "2                2    Taking  B-ACT\n",
       "3                2       Off  I-ACT\n",
       "4                3    Taking  B-ACT\n",
       "...            ...       ...    ...\n",
       "3673           672      will      O\n",
       "3674           672        be      O\n",
       "3675           672  disabled      O\n",
       "3676           672        in      O\n",
       "3677           672   landing  B-ACT\n",
       "\n",
       "[3678 rows x 3 columns]"
      ]
     },
     "execution_count": 18,
     "metadata": {},
     "output_type": "execute_result"
    }
   ],
   "source": [
    "dataset_train"
   ]
  },
  {
   "cell_type": "code",
   "execution_count": 19,
   "metadata": {
    "colab": {
     "base_uri": "https://localhost:8080/",
     "height": 424
    },
    "id": "cfFBTWDokqY1",
    "outputId": "32c60610-a73f-4a30-8d2a-272deffb3e30"
   },
   "outputs": [
    {
     "data": {
      "text/html": [
       "<div>\n",
       "<style scoped>\n",
       "    .dataframe tbody tr th:only-of-type {\n",
       "        vertical-align: middle;\n",
       "    }\n",
       "\n",
       "    .dataframe tbody tr th {\n",
       "        vertical-align: top;\n",
       "    }\n",
       "\n",
       "    .dataframe thead th {\n",
       "        text-align: right;\n",
       "    }\n",
       "</style>\n",
       "<table border=\"1\" class=\"dataframe\">\n",
       "  <thead>\n",
       "    <tr style=\"text-align: right;\">\n",
       "      <th></th>\n",
       "      <th>sentence_idx</th>\n",
       "      <th>word</th>\n",
       "      <th>tag</th>\n",
       "    </tr>\n",
       "  </thead>\n",
       "  <tbody>\n",
       "    <tr>\n",
       "      <th>0</th>\n",
       "      <td>1</td>\n",
       "      <td>Taking</td>\n",
       "      <td>B-ACT</td>\n",
       "    </tr>\n",
       "    <tr>\n",
       "      <th>1</th>\n",
       "      <td>1</td>\n",
       "      <td>Off</td>\n",
       "      <td>I-ACT</td>\n",
       "    </tr>\n",
       "    <tr>\n",
       "      <th>2</th>\n",
       "      <td>2</td>\n",
       "      <td>Home</td>\n",
       "      <td>O</td>\n",
       "    </tr>\n",
       "    <tr>\n",
       "      <th>3</th>\n",
       "      <td>2</td>\n",
       "      <td>Point</td>\n",
       "      <td>O</td>\n",
       "    </tr>\n",
       "    <tr>\n",
       "      <th>4</th>\n",
       "      <td>2</td>\n",
       "      <td>Recorded</td>\n",
       "      <td>O</td>\n",
       "    </tr>\n",
       "    <tr>\n",
       "      <th>...</th>\n",
       "      <td>...</td>\n",
       "      <td>...</td>\n",
       "      <td>...</td>\n",
       "    </tr>\n",
       "    <tr>\n",
       "      <th>853</th>\n",
       "      <td>101</td>\n",
       "      <td>Controller</td>\n",
       "      <td>B-CMP</td>\n",
       "    </tr>\n",
       "    <tr>\n",
       "      <th>854</th>\n",
       "      <td>101</td>\n",
       "      <td>Settings</td>\n",
       "      <td>B-FNC</td>\n",
       "    </tr>\n",
       "    <tr>\n",
       "      <th>855</th>\n",
       "      <td>101</td>\n",
       "      <td>after</td>\n",
       "      <td>O</td>\n",
       "    </tr>\n",
       "    <tr>\n",
       "      <th>856</th>\n",
       "      <td>101</td>\n",
       "      <td>cancelling</td>\n",
       "      <td>O</td>\n",
       "    </tr>\n",
       "    <tr>\n",
       "      <th>857</th>\n",
       "      <td>101</td>\n",
       "      <td>RTH</td>\n",
       "      <td>B-ACT</td>\n",
       "    </tr>\n",
       "  </tbody>\n",
       "</table>\n",
       "<p>858 rows × 3 columns</p>\n",
       "</div>"
      ],
      "text/plain": [
       "     sentence_idx        word    tag\n",
       "0               1      Taking  B-ACT\n",
       "1               1         Off  I-ACT\n",
       "2               2        Home      O\n",
       "3               2       Point      O\n",
       "4               2    Recorded      O\n",
       "..            ...         ...    ...\n",
       "853           101  Controller  B-CMP\n",
       "854           101    Settings  B-FNC\n",
       "855           101       after      O\n",
       "856           101  cancelling      O\n",
       "857           101         RTH  B-ACT\n",
       "\n",
       "[858 rows x 3 columns]"
      ]
     },
     "execution_count": 19,
     "metadata": {},
     "output_type": "execute_result"
    }
   ],
   "source": [
    "dataset_test"
   ]
  },
  {
   "cell_type": "code",
   "execution_count": 20,
   "metadata": {
    "colab": {
     "base_uri": "https://localhost:8080/"
    },
    "id": "qmq4ZqXdeOKj",
    "outputId": "c31f2be2-1c80-460d-90be-14933a5c70c2"
   },
   "outputs": [
    {
     "data": {
      "text/plain": [
       "O        2694\n",
       "B-FNC     329\n",
       "B-CMP     149\n",
       "B-ACT     141\n",
       "I-ISS      79\n",
       "B-STE      73\n",
       "B-ISS      65\n",
       "I-STE      45\n",
       "I-FNC      40\n",
       "I-ACT      36\n",
       "I-CMP      27\n",
       "Name: tag, dtype: int64"
      ]
     },
     "execution_count": 20,
     "metadata": {},
     "output_type": "execute_result"
    }
   ],
   "source": [
    "dataset_train['tag'].value_counts()"
   ]
  },
  {
   "cell_type": "code",
   "execution_count": 21,
   "metadata": {
    "colab": {
     "base_uri": "https://localhost:8080/",
     "height": 567
    },
    "id": "VlkfFsCZev3m",
    "outputId": "c040220e-f6ff-463a-dcdd-09e6cf22efd7"
   },
   "outputs": [
    {
     "data": {
      "image/png": "[encoded data removed]",
      "text/plain": [
       "<Figure size 1152x576 with 1 Axes>"
      ]
     },
     "metadata": {},
     "output_type": "display_data"
    }
   ],
   "source": [
    "import matplotlib.pyplot as plt\n",
    "import seaborn as sns\n",
    "\n",
    "plt.figure(figsize = (16,8))\n",
    "sns.set_style('darkgrid')\n",
    "sns.histplot(dataset_train['tag'])\n",
    "plt.tight_layout(pad=2)\n",
    "plt.show()"
   ]
  },
  {
   "cell_type": "code",
   "execution_count": 22,
   "metadata": {
    "colab": {
     "base_uri": "https://localhost:8080/"
    },
    "id": "pzJAoTFJj1vN",
    "outputId": "d28eccfe-38c4-48a1-f268-5b84c4861c2f"
   },
   "outputs": [
    {
     "data": {
      "text/plain": [
       "O        661\n",
       "B-CMP     54\n",
       "B-ACT     34\n",
       "I-ISS     18\n",
       "B-ISS     18\n",
       "B-FNC     18\n",
       "B-STE     18\n",
       "I-STE     17\n",
       "I-CMP     10\n",
       "I-FNC      8\n",
       "I-ACT      2\n",
       "Name: tag, dtype: int64"
      ]
     },
     "execution_count": 22,
     "metadata": {},
     "output_type": "execute_result"
    }
   ],
   "source": [
    "dataset_test['tag'].value_counts()"
   ]
  },
  {
   "cell_type": "code",
   "execution_count": 23,
   "metadata": {
    "colab": {
     "base_uri": "https://localhost:8080/",
     "height": 567
    },
    "id": "z7QXLyAujfyz",
    "outputId": "dd4ff837-ec4d-444b-885a-5af10dc9da47"
   },
   "outputs": [
    {
     "data": {
      "image/png": "[encoded data removed]",
      "text/plain": [
       "<Figure size 1152x576 with 1 Axes>"
      ]
     },
     "metadata": {},
     "output_type": "display_data"
    }
   ],
   "source": [
    "import matplotlib.pyplot as plt\n",
    "import seaborn as sns\n",
    "\n",
    "plt.figure(figsize = (16,8))\n",
    "sns.set_style('darkgrid')\n",
    "sns.histplot(dataset_test['tag'])\n",
    "plt.tight_layout(pad=2)\n",
    "plt.show()"
   ]
  },
  {
   "cell_type": "code",
   "execution_count": 25,
   "metadata": {
    "id": "drEvWaeugCX1"
   },
   "outputs": [],
   "source": [
    "from itertools import chain\n",
    "def get_dict_map(dataset, token_or_tag):\n",
    "    tok2idx = {}\n",
    "    idx2tok = {}\n",
    "    \n",
    "    if token_or_tag == 'token':\n",
    "        vocab = list(set(dataset['word'].to_list()))\n",
    "    else:\n",
    "        vocab = list(set(dataset['tag'].to_list()))\n",
    "    \n",
    "    idx2tok = {idx:tok for  idx, tok in enumerate(vocab)}\n",
    "    tok2idx = {tok:idx for  idx, tok in enumerate(vocab)}\n",
    "    return tok2idx, idx2tok, vocab\n",
    "token2idx, idx2token, token_vocab = get_dict_map(dataset_train, 'token')\n",
    "tag2idx, idx2tag, tag_vocab = get_dict_map(dataset_train, 'tag')"
   ]
  },
  {
   "cell_type": "code",
   "execution_count": 26,
   "metadata": {
    "colab": {
     "base_uri": "https://localhost:8080/"
    },
    "id": "cd0DeGWng2Lg",
    "outputId": "50701342-5319-498c-8f5a-9156e7df3a69"
   },
   "outputs": [
    {
     "name": "stdout",
     "output_type": "stream",
     "text": [
      "{'I-FNC': 0, 'I-CMP': 1, 'I-STE': 2, 'B-CMP': 3, 'O': 4, 'B-STE': 5, 'B-FNC': 6, 'I-ACT': 7, 'B-ISS': 8, 'B-ACT': 9, 'I-ISS': 10}\n"
     ]
    }
   ],
   "source": [
    "print(tag2idx)"
   ]
  },
  {
   "cell_type": "code",
   "execution_count": 27,
   "metadata": {
    "id": "FsndczUOugUO"
   },
   "outputs": [],
   "source": [
    "# Set index 0 for tag O\n",
    "tag2idx['I-FNC'] = 4\n",
    "idx2tag[4] = 'I-FNC'\n",
    "idx2tag[0] = 'O'\n",
    "tag2idx['O'] = 0"
   ]
  },
  {
   "cell_type": "code",
   "execution_count": 28,
   "metadata": {
    "colab": {
     "base_uri": "https://localhost:8080/"
    },
    "id": "JKs-YUNau5ba",
    "outputId": "4eda4209-826d-4311-acae-e95481af1ab5"
   },
   "outputs": [
    {
     "name": "stdout",
     "output_type": "stream",
     "text": [
      "{'I-FNC': 4, 'I-CMP': 1, 'I-STE': 2, 'B-CMP': 3, 'O': 0, 'B-STE': 5, 'B-FNC': 6, 'I-ACT': 7, 'B-ISS': 8, 'B-ACT': 9, 'I-ISS': 10}\n",
      "{0: 'O', 1: 'I-CMP', 2: 'I-STE', 3: 'B-CMP', 4: 'I-FNC', 5: 'B-STE', 6: 'B-FNC', 7: 'I-ACT', 8: 'B-ISS', 9: 'B-ACT', 10: 'I-ISS'}\n"
     ]
    }
   ],
   "source": [
    "print(tag2idx)\n",
    "print(idx2tag)"
   ]
  },
  {
   "cell_type": "code",
   "execution_count": 33,
   "metadata": {},
   "outputs": [
    {
     "name": "stdout",
     "output_type": "stream",
     "text": [
      "closer\n",
      "attempting\n"
     ]
    }
   ],
   "source": [
    "# Check for token index 0, it must be reserved for [PAD] token\n",
    "print(idx2token[0])\n",
    "print(idx2token[len(idx2token)-1])"
   ]
  },
  {
   "cell_type": "code",
   "execution_count": 34,
   "metadata": {},
   "outputs": [],
   "source": [
    "# Move the token at index 0 to the last index, add [PAD] as the token at index 0\n",
    "token2idx['PAD'] = 0\n",
    "idx2token[0] = 'PAD'\n",
    "token2idx['closer'] = len(token2idx)\n",
    "idx2token[len(token2idx)] = 'closer'"
   ]
  },
  {
   "cell_type": "code",
   "execution_count": 35,
   "metadata": {},
   "outputs": [
    {
     "name": "stdout",
     "output_type": "stream",
     "text": [
      "PAD\n",
      "0\n"
     ]
    }
   ],
   "source": [
    "# Check for the result\n",
    "print(idx2token[0])\n",
    "print(token2idx['PAD'])"
   ]
  },
  {
   "cell_type": "code",
   "execution_count": 36,
   "metadata": {
    "colab": {
     "base_uri": "https://localhost:8080/"
    },
    "id": "Zf6dmcVXe3r2",
    "outputId": "9e81e281-bc83-4d8d-8c14-f07461b3ca8a"
   },
   "outputs": [
    {
     "name": "stderr",
     "output_type": "stream",
     "text": [
      "C:\\Users\\sward\\.conda\\envs\\Data Mining\\lib\\site-packages\\ipykernel_launcher.py:3: FutureWarning: Indexing with multiple keys (implicitly converted to a tuple of keys) will be deprecated, use a list instead.\n",
      "  This is separate from the ipykernel package so we can avoid doing imports until\n",
      "C:\\Users\\sward\\.conda\\envs\\Data Mining\\lib\\site-packages\\ipykernel_launcher.py:7: FutureWarning: Indexing with multiple keys (implicitly converted to a tuple of keys) will be deprecated, use a list instead.\n",
      "  import sys\n"
     ]
    }
   ],
   "source": [
    "# Data Train\n",
    "dataset_fillna_train = dataset_train.fillna(method='ffill', axis=0)\n",
    "dataset_group_train = dataset_fillna_train.groupby(['sentence_idx'], as_index=False)['word', 'tag'].agg(lambda x: list(x))\n",
    "\n",
    "# Data Test\n",
    "dataset_fillna_test = dataset_test.fillna(method='ffill', axis=0)\n",
    "dataset_group_test = dataset_fillna_test.groupby(['sentence_idx'], as_index=False)['word', 'tag'].agg(lambda x: list(x))"
   ]
  },
  {
   "cell_type": "code",
   "execution_count": 37,
   "metadata": {
    "colab": {
     "base_uri": "https://localhost:8080/",
     "height": 424
    },
    "id": "yDVIATENfMZV",
    "outputId": "3478a386-71fe-43d2-b23c-df69bf35b006"
   },
   "outputs": [
    {
     "data": {
      "text/html": [
       "<div>\n",
       "<style scoped>\n",
       "    .dataframe tbody tr th:only-of-type {\n",
       "        vertical-align: middle;\n",
       "    }\n",
       "\n",
       "    .dataframe tbody tr th {\n",
       "        vertical-align: top;\n",
       "    }\n",
       "\n",
       "    .dataframe thead th {\n",
       "        text-align: right;\n",
       "    }\n",
       "</style>\n",
       "<table border=\"1\" class=\"dataframe\">\n",
       "  <thead>\n",
       "    <tr style=\"text-align: right;\">\n",
       "      <th></th>\n",
       "      <th>sentence_idx</th>\n",
       "      <th>word</th>\n",
       "      <th>tag</th>\n",
       "    </tr>\n",
       "  </thead>\n",
       "  <tbody>\n",
       "    <tr>\n",
       "      <th>0</th>\n",
       "      <td>1</td>\n",
       "      <td>[Taking, Off]</td>\n",
       "      <td>[B-ACT, I-ACT]</td>\n",
       "    </tr>\n",
       "    <tr>\n",
       "      <th>1</th>\n",
       "      <td>2</td>\n",
       "      <td>[Taking, Off]</td>\n",
       "      <td>[B-ACT, I-ACT]</td>\n",
       "    </tr>\n",
       "    <tr>\n",
       "      <th>2</th>\n",
       "      <td>3</td>\n",
       "      <td>[Taking, Off]</td>\n",
       "      <td>[B-ACT, I-ACT]</td>\n",
       "    </tr>\n",
       "    <tr>\n",
       "      <th>3</th>\n",
       "      <td>4</td>\n",
       "      <td>[Taking, Off]</td>\n",
       "      <td>[B-ACT, I-ACT]</td>\n",
       "    </tr>\n",
       "    <tr>\n",
       "      <th>4</th>\n",
       "      <td>5</td>\n",
       "      <td>[Home, Point, Recorded, RTH, Altitude, 30m]</td>\n",
       "      <td>[O, O, O, B-ACT, O, O]</td>\n",
       "    </tr>\n",
       "    <tr>\n",
       "      <th>...</th>\n",
       "      <td>...</td>\n",
       "      <td>...</td>\n",
       "      <td>...</td>\n",
       "    </tr>\n",
       "    <tr>\n",
       "      <th>667</th>\n",
       "      <td>668</td>\n",
       "      <td>[Taking, Off]</td>\n",
       "      <td>[B-ACT, I-ACT]</td>\n",
       "    </tr>\n",
       "    <tr>\n",
       "      <th>668</th>\n",
       "      <td>669</td>\n",
       "      <td>[Home, Point, Recorded, RTH, Altitude, 30m]</td>\n",
       "      <td>[O, O, O, B-ACT, O, O]</td>\n",
       "    </tr>\n",
       "    <tr>\n",
       "      <th>669</th>\n",
       "      <td>670</td>\n",
       "      <td>[Tap, the, screen, lightly, to, focus]</td>\n",
       "      <td>[O, O, O, O, O, O]</td>\n",
       "    </tr>\n",
       "    <tr>\n",
       "      <th>670</th>\n",
       "      <td>671</td>\n",
       "      <td>[Obstacle, Avoided, Revise, Flight, Route]</td>\n",
       "      <td>[O, B-ACT, O, O, O]</td>\n",
       "    </tr>\n",
       "    <tr>\n",
       "      <th>671</th>\n",
       "      <td>672</td>\n",
       "      <td>[Obstacle, Avoidance, will, be, disabled, in, ...</td>\n",
       "      <td>[B-FNC, I-FNC, O, O, O, O, B-ACT]</td>\n",
       "    </tr>\n",
       "  </tbody>\n",
       "</table>\n",
       "<p>672 rows × 3 columns</p>\n",
       "</div>"
      ],
      "text/plain": [
       "     sentence_idx                                               word  \\\n",
       "0               1                                      [Taking, Off]   \n",
       "1               2                                      [Taking, Off]   \n",
       "2               3                                      [Taking, Off]   \n",
       "3               4                                      [Taking, Off]   \n",
       "4               5        [Home, Point, Recorded, RTH, Altitude, 30m]   \n",
       "..            ...                                                ...   \n",
       "667           668                                      [Taking, Off]   \n",
       "668           669        [Home, Point, Recorded, RTH, Altitude, 30m]   \n",
       "669           670             [Tap, the, screen, lightly, to, focus]   \n",
       "670           671         [Obstacle, Avoided, Revise, Flight, Route]   \n",
       "671           672  [Obstacle, Avoidance, will, be, disabled, in, ...   \n",
       "\n",
       "                                   tag  \n",
       "0                       [B-ACT, I-ACT]  \n",
       "1                       [B-ACT, I-ACT]  \n",
       "2                       [B-ACT, I-ACT]  \n",
       "3                       [B-ACT, I-ACT]  \n",
       "4               [O, O, O, B-ACT, O, O]  \n",
       "..                                 ...  \n",
       "667                     [B-ACT, I-ACT]  \n",
       "668             [O, O, O, B-ACT, O, O]  \n",
       "669                 [O, O, O, O, O, O]  \n",
       "670                [O, B-ACT, O, O, O]  \n",
       "671  [B-FNC, I-FNC, O, O, O, O, B-ACT]  \n",
       "\n",
       "[672 rows x 3 columns]"
      ]
     },
     "execution_count": 37,
     "metadata": {},
     "output_type": "execute_result"
    }
   ],
   "source": [
    "dataset_group_train"
   ]
  },
  {
   "cell_type": "code",
   "execution_count": 38,
   "metadata": {
    "colab": {
     "base_uri": "https://localhost:8080/",
     "height": 424
    },
    "id": "bJWSQNFAkx8Y",
    "outputId": "58255a9c-8a04-43b6-9d0a-ce7fe3dfcbe5"
   },
   "outputs": [
    {
     "data": {
      "text/html": [
       "<div>\n",
       "<style scoped>\n",
       "    .dataframe tbody tr th:only-of-type {\n",
       "        vertical-align: middle;\n",
       "    }\n",
       "\n",
       "    .dataframe tbody tr th {\n",
       "        vertical-align: top;\n",
       "    }\n",
       "\n",
       "    .dataframe thead th {\n",
       "        text-align: right;\n",
       "    }\n",
       "</style>\n",
       "<table border=\"1\" class=\"dataframe\">\n",
       "  <thead>\n",
       "    <tr style=\"text-align: right;\">\n",
       "      <th></th>\n",
       "      <th>sentence_idx</th>\n",
       "      <th>word</th>\n",
       "      <th>tag</th>\n",
       "    </tr>\n",
       "  </thead>\n",
       "  <tbody>\n",
       "    <tr>\n",
       "      <th>0</th>\n",
       "      <td>1</td>\n",
       "      <td>[Taking, Off]</td>\n",
       "      <td>[B-ACT, I-ACT]</td>\n",
       "    </tr>\n",
       "    <tr>\n",
       "      <th>1</th>\n",
       "      <td>2</td>\n",
       "      <td>[Home, Point, Recorded, RTH, Altitude, 30m]</td>\n",
       "      <td>[O, O, O, B-ACT, O, O]</td>\n",
       "    </tr>\n",
       "    <tr>\n",
       "      <th>2</th>\n",
       "      <td>3</td>\n",
       "      <td>[Camera, Settings, Adjusted, to, ActiveTrack]</td>\n",
       "      <td>[B-CMP, B-FNC, O, O, O]</td>\n",
       "    </tr>\n",
       "    <tr>\n",
       "      <th>3</th>\n",
       "      <td>4</td>\n",
       "      <td>[Your, palm, is, too, far, away, from, the, ai...</td>\n",
       "      <td>[O, O, O, O, O, O, O, O, B-CMP, O, O, O]</td>\n",
       "    </tr>\n",
       "    <tr>\n",
       "      <th>4</th>\n",
       "      <td>5</td>\n",
       "      <td>[Your, palm, is, too, close, to, the, aircraft...</td>\n",
       "      <td>[O, O, O, O, O, O, O, B-CMP, O, O, O, O]</td>\n",
       "    </tr>\n",
       "    <tr>\n",
       "      <th>...</th>\n",
       "      <td>...</td>\n",
       "      <td>...</td>\n",
       "      <td>...</td>\n",
       "    </tr>\n",
       "    <tr>\n",
       "      <th>96</th>\n",
       "      <td>97</td>\n",
       "      <td>[Aircraft, is, returning, to, the, Home, Point...</td>\n",
       "      <td>[B-CMP, O, O, O, O, O, O, O, B-ACT, O, O, O, O...</td>\n",
       "    </tr>\n",
       "    <tr>\n",
       "      <th>97</th>\n",
       "      <td>98</td>\n",
       "      <td>[Locating, Landing, Point]</td>\n",
       "      <td>[O, B-ACT, O]</td>\n",
       "    </tr>\n",
       "    <tr>\n",
       "      <th>98</th>\n",
       "      <td>99</td>\n",
       "      <td>[Forward, Obstacle, Sensing, not, Responding]</td>\n",
       "      <td>[O, B-FNC, I-FNC, O, O]</td>\n",
       "    </tr>\n",
       "    <tr>\n",
       "      <th>99</th>\n",
       "      <td>100</td>\n",
       "      <td>[Compass, Redundancy, Switch]</td>\n",
       "      <td>[B-CMP, O, O]</td>\n",
       "    </tr>\n",
       "    <tr>\n",
       "      <th>100</th>\n",
       "      <td>101</td>\n",
       "      <td>[Aircraft, is, returning, to, the, Home, Point...</td>\n",
       "      <td>[B-CMP, O, O, O, O, O, O, O, B-ACT, O, O, O, O...</td>\n",
       "    </tr>\n",
       "  </tbody>\n",
       "</table>\n",
       "<p>101 rows × 3 columns</p>\n",
       "</div>"
      ],
      "text/plain": [
       "     sentence_idx                                               word  \\\n",
       "0               1                                      [Taking, Off]   \n",
       "1               2        [Home, Point, Recorded, RTH, Altitude, 30m]   \n",
       "2               3      [Camera, Settings, Adjusted, to, ActiveTrack]   \n",
       "3               4  [Your, palm, is, too, far, away, from, the, ai...   \n",
       "4               5  [Your, palm, is, too, close, to, the, aircraft...   \n",
       "..            ...                                                ...   \n",
       "96             97  [Aircraft, is, returning, to, the, Home, Point...   \n",
       "97             98                         [Locating, Landing, Point]   \n",
       "98             99      [Forward, Obstacle, Sensing, not, Responding]   \n",
       "99            100                      [Compass, Redundancy, Switch]   \n",
       "100           101  [Aircraft, is, returning, to, the, Home, Point...   \n",
       "\n",
       "                                                   tag  \n",
       "0                                       [B-ACT, I-ACT]  \n",
       "1                               [O, O, O, B-ACT, O, O]  \n",
       "2                              [B-CMP, B-FNC, O, O, O]  \n",
       "3             [O, O, O, O, O, O, O, O, B-CMP, O, O, O]  \n",
       "4             [O, O, O, O, O, O, O, B-CMP, O, O, O, O]  \n",
       "..                                                 ...  \n",
       "96   [B-CMP, O, O, O, O, O, O, O, B-ACT, O, O, O, O...  \n",
       "97                                       [O, B-ACT, O]  \n",
       "98                             [O, B-FNC, I-FNC, O, O]  \n",
       "99                                       [B-CMP, O, O]  \n",
       "100  [B-CMP, O, O, O, O, O, O, O, B-ACT, O, O, O, O...  \n",
       "\n",
       "[101 rows x 3 columns]"
      ]
     },
     "execution_count": 38,
     "metadata": {},
     "output_type": "execute_result"
    }
   ],
   "source": [
    "dataset_group_test"
   ]
  },
  {
   "cell_type": "code",
   "execution_count": 39,
   "metadata": {
    "id": "p5LZ1CHchfcT"
   },
   "outputs": [],
   "source": [
    "def buildDataFrame(groupedData):\n",
    "  word_list = []\n",
    "  tag_list = []\n",
    "  sentence_list = []\n",
    "  for sentence in range(0, groupedData.shape[0]):\n",
    "    sentence_array = [groupedData.loc[sentence, 'sentence_idx']] * len(groupedData.loc[sentence, 'word'])\n",
    "    sentence_list = sentence_list + sentence_array\n",
    "    word_list = word_list + groupedData.loc[sentence, 'word']\n",
    "    tag_list = tag_list + groupedData.loc[sentence, 'tag']\n",
    "    # print(sentence_list, word_list, tag_list)\n",
    "  dataFrame = pd.DataFrame({'sentence_idx': sentence_list, 'word': word_list, 'tag': tag_list})\n",
    "  # return sentence_list, word_list, tag_list\n",
    "  return dataFrame"
   ]
  },
  {
   "cell_type": "code",
   "execution_count": 40,
   "metadata": {
    "id": "ZofcAHKehgh5"
   },
   "outputs": [],
   "source": [
    "train_df =  buildDataFrame(dataset_group_train)"
   ]
  },
  {
   "cell_type": "code",
   "execution_count": 41,
   "metadata": {
    "id": "Q6dpwFxfmyGm"
   },
   "outputs": [],
   "source": [
    "test_df = buildDataFrame(dataset_group_test)"
   ]
  },
  {
   "cell_type": "code",
   "execution_count": 43,
   "metadata": {
    "colab": {
     "base_uri": "https://localhost:8080/"
    },
    "id": "uqxLpzeZg_tV",
    "outputId": "489279ca-3875-4921-9a84-ddb5e3b8ba03"
   },
   "outputs": [
    {
     "name": "stderr",
     "output_type": "stream",
     "text": [
      "C:\\Users\\sward\\.conda\\envs\\Data Mining\\lib\\site-packages\\ipykernel_launcher.py:18: FutureWarning: Indexing with multiple keys (implicitly converted to a tuple of keys) will be deprecated, use a list instead.\n",
      "C:\\Users\\sward\\.conda\\envs\\Data Mining\\lib\\site-packages\\ipykernel_launcher.py:19: FutureWarning: Indexing with multiple keys (implicitly converted to a tuple of keys) will be deprecated, use a list instead.\n"
     ]
    }
   ],
   "source": [
    "# Merged Data\n",
    "# dataset['word_idx'] = dataset['tokenized'].map(token2idx)\n",
    "# dataset['tag_idx'] = dataset['tag'].map(tag2idx)\n",
    "# dataset_fillna = dataset.fillna(method='ffill', axis=0)\n",
    "\n",
    "# Train Data\n",
    "train_df['word_idx'] = train_df['word'].map(token2idx)\n",
    "train_df['tag_idx'] = train_df['tag'].map(tag2idx)\n",
    "train_df_fillna = train_df.fillna(method='ffill', axis=0)\n",
    "\n",
    "# Test Data\n",
    "test_df['word_idx'] = test_df['word'].map(token2idx)\n",
    "test_df['tag_idx'] = test_df['tag'].map(tag2idx)\n",
    "test_df_fillna = test_df.fillna(method='ffill', axis=0)\n",
    "\n",
    "# Groupby and collect columns\n",
    "# merged_data_group = dataset_fillna.groupby(['sentence_idx'], as_index=False)['tokenized', 'tag', 'word_idx', 'tag_idx'].agg(lambda x: list(x))\n",
    "train_df_group = train_df_fillna.groupby(['sentence_idx'], as_index=False)['word', 'tag', 'word_idx', 'tag_idx'].agg(lambda x: list(x))\n",
    "test_df_group = test_df_fillna.groupby(['sentence_idx'], as_index=False)['word', 'tag', 'word_idx', 'tag_idx'].agg(lambda x: list(x))"
   ]
  },
  {
   "cell_type": "code",
   "execution_count": 44,
   "metadata": {
    "colab": {
     "base_uri": "https://localhost:8080/",
     "height": 424
    },
    "id": "n4DWQEM0iaDX",
    "outputId": "eb06faa4-d9c8-4a19-b114-a4da82817399"
   },
   "outputs": [
    {
     "data": {
      "text/html": [
       "<div>\n",
       "<style scoped>\n",
       "    .dataframe tbody tr th:only-of-type {\n",
       "        vertical-align: middle;\n",
       "    }\n",
       "\n",
       "    .dataframe tbody tr th {\n",
       "        vertical-align: top;\n",
       "    }\n",
       "\n",
       "    .dataframe thead th {\n",
       "        text-align: right;\n",
       "    }\n",
       "</style>\n",
       "<table border=\"1\" class=\"dataframe\">\n",
       "  <thead>\n",
       "    <tr style=\"text-align: right;\">\n",
       "      <th></th>\n",
       "      <th>sentence_idx</th>\n",
       "      <th>word</th>\n",
       "      <th>tag</th>\n",
       "      <th>word_idx</th>\n",
       "      <th>tag_idx</th>\n",
       "    </tr>\n",
       "  </thead>\n",
       "  <tbody>\n",
       "    <tr>\n",
       "      <th>0</th>\n",
       "      <td>1</td>\n",
       "      <td>[Taking, Off]</td>\n",
       "      <td>[B-ACT, I-ACT]</td>\n",
       "      <td>[72, 14]</td>\n",
       "      <td>[9, 7]</td>\n",
       "    </tr>\n",
       "    <tr>\n",
       "      <th>1</th>\n",
       "      <td>2</td>\n",
       "      <td>[Taking, Off]</td>\n",
       "      <td>[B-ACT, I-ACT]</td>\n",
       "      <td>[72, 14]</td>\n",
       "      <td>[9, 7]</td>\n",
       "    </tr>\n",
       "    <tr>\n",
       "      <th>2</th>\n",
       "      <td>3</td>\n",
       "      <td>[Taking, Off]</td>\n",
       "      <td>[B-ACT, I-ACT]</td>\n",
       "      <td>[72, 14]</td>\n",
       "      <td>[9, 7]</td>\n",
       "    </tr>\n",
       "    <tr>\n",
       "      <th>3</th>\n",
       "      <td>4</td>\n",
       "      <td>[Taking, Off]</td>\n",
       "      <td>[B-ACT, I-ACT]</td>\n",
       "      <td>[72, 14]</td>\n",
       "      <td>[9, 7]</td>\n",
       "    </tr>\n",
       "    <tr>\n",
       "      <th>4</th>\n",
       "      <td>5</td>\n",
       "      <td>[Home, Point, Recorded, RTH, Altitude, 30m]</td>\n",
       "      <td>[O, O, O, B-ACT, O, O]</td>\n",
       "      <td>[159, 130, 70, 133, 73, 46]</td>\n",
       "      <td>[0, 0, 0, 9, 0, 0]</td>\n",
       "    </tr>\n",
       "    <tr>\n",
       "      <th>...</th>\n",
       "      <td>...</td>\n",
       "      <td>...</td>\n",
       "      <td>...</td>\n",
       "      <td>...</td>\n",
       "      <td>...</td>\n",
       "    </tr>\n",
       "    <tr>\n",
       "      <th>667</th>\n",
       "      <td>668</td>\n",
       "      <td>[Taking, Off]</td>\n",
       "      <td>[B-ACT, I-ACT]</td>\n",
       "      <td>[72, 14]</td>\n",
       "      <td>[9, 7]</td>\n",
       "    </tr>\n",
       "    <tr>\n",
       "      <th>668</th>\n",
       "      <td>669</td>\n",
       "      <td>[Home, Point, Recorded, RTH, Altitude, 30m]</td>\n",
       "      <td>[O, O, O, B-ACT, O, O]</td>\n",
       "      <td>[159, 130, 70, 133, 73, 46]</td>\n",
       "      <td>[0, 0, 0, 9, 0, 0]</td>\n",
       "    </tr>\n",
       "    <tr>\n",
       "      <th>669</th>\n",
       "      <td>670</td>\n",
       "      <td>[Tap, the, screen, lightly, to, focus]</td>\n",
       "      <td>[O, O, O, O, O, O]</td>\n",
       "      <td>[289, 225, 34, 6, 87, 161]</td>\n",
       "      <td>[0, 0, 0, 0, 0, 0]</td>\n",
       "    </tr>\n",
       "    <tr>\n",
       "      <th>670</th>\n",
       "      <td>671</td>\n",
       "      <td>[Obstacle, Avoided, Revise, Flight, Route]</td>\n",
       "      <td>[O, B-ACT, O, O, O]</td>\n",
       "      <td>[287, 94, 196, 182, 20]</td>\n",
       "      <td>[0, 9, 0, 0, 0]</td>\n",
       "    </tr>\n",
       "    <tr>\n",
       "      <th>671</th>\n",
       "      <td>672</td>\n",
       "      <td>[Obstacle, Avoidance, will, be, disabled, in, ...</td>\n",
       "      <td>[B-FNC, I-FNC, O, O, O, O, B-ACT]</td>\n",
       "      <td>[287, 74, 220, 25, 52, 152, 45]</td>\n",
       "      <td>[6, 4, 0, 0, 0, 0, 9]</td>\n",
       "    </tr>\n",
       "  </tbody>\n",
       "</table>\n",
       "<p>672 rows × 5 columns</p>\n",
       "</div>"
      ],
      "text/plain": [
       "     sentence_idx                                               word  \\\n",
       "0               1                                      [Taking, Off]   \n",
       "1               2                                      [Taking, Off]   \n",
       "2               3                                      [Taking, Off]   \n",
       "3               4                                      [Taking, Off]   \n",
       "4               5        [Home, Point, Recorded, RTH, Altitude, 30m]   \n",
       "..            ...                                                ...   \n",
       "667           668                                      [Taking, Off]   \n",
       "668           669        [Home, Point, Recorded, RTH, Altitude, 30m]   \n",
       "669           670             [Tap, the, screen, lightly, to, focus]   \n",
       "670           671         [Obstacle, Avoided, Revise, Flight, Route]   \n",
       "671           672  [Obstacle, Avoidance, will, be, disabled, in, ...   \n",
       "\n",
       "                                   tag                         word_idx  \\\n",
       "0                       [B-ACT, I-ACT]                         [72, 14]   \n",
       "1                       [B-ACT, I-ACT]                         [72, 14]   \n",
       "2                       [B-ACT, I-ACT]                         [72, 14]   \n",
       "3                       [B-ACT, I-ACT]                         [72, 14]   \n",
       "4               [O, O, O, B-ACT, O, O]      [159, 130, 70, 133, 73, 46]   \n",
       "..                                 ...                              ...   \n",
       "667                     [B-ACT, I-ACT]                         [72, 14]   \n",
       "668             [O, O, O, B-ACT, O, O]      [159, 130, 70, 133, 73, 46]   \n",
       "669                 [O, O, O, O, O, O]       [289, 225, 34, 6, 87, 161]   \n",
       "670                [O, B-ACT, O, O, O]          [287, 94, 196, 182, 20]   \n",
       "671  [B-FNC, I-FNC, O, O, O, O, B-ACT]  [287, 74, 220, 25, 52, 152, 45]   \n",
       "\n",
       "                   tag_idx  \n",
       "0                   [9, 7]  \n",
       "1                   [9, 7]  \n",
       "2                   [9, 7]  \n",
       "3                   [9, 7]  \n",
       "4       [0, 0, 0, 9, 0, 0]  \n",
       "..                     ...  \n",
       "667                 [9, 7]  \n",
       "668     [0, 0, 0, 9, 0, 0]  \n",
       "669     [0, 0, 0, 0, 0, 0]  \n",
       "670        [0, 9, 0, 0, 0]  \n",
       "671  [6, 4, 0, 0, 0, 0, 9]  \n",
       "\n",
       "[672 rows x 5 columns]"
      ]
     },
     "execution_count": 44,
     "metadata": {},
     "output_type": "execute_result"
    }
   ],
   "source": [
    "train_df_group"
   ]
  },
  {
   "cell_type": "code",
   "execution_count": 45,
   "metadata": {
    "id": "memuH5O6ick_"
   },
   "outputs": [],
   "source": [
    "# maxlen_merged = max([len(s) for s in merged_data_group['word_idx'].tolist()])\n",
    "maxlen_train = max([len(s) for s in train_df_group['word_idx'].tolist()])\n",
    "maxlen_test = max([len(s) for s in test_df_group['word_idx'].tolist()])"
   ]
  },
  {
   "cell_type": "code",
   "execution_count": 46,
   "metadata": {
    "colab": {
     "base_uri": "https://localhost:8080/"
    },
    "id": "wockiZWsifPW",
    "outputId": "85cb4fee-a9fe-49a1-f404-d5387e8843fe"
   },
   "outputs": [
    {
     "name": "stdout",
     "output_type": "stream",
     "text": [
      "Train : 46\n",
      "Test : 46\n"
     ]
    }
   ],
   "source": [
    "# print(\"Merged :\", maxlen_merged)\n",
    "print(\"Train :\", maxlen_train)\n",
    "print(\"Test :\", maxlen_test)"
   ]
  },
  {
   "cell_type": "code",
   "execution_count": 47,
   "metadata": {
    "id": "5kLIkTSXipfx"
   },
   "outputs": [],
   "source": [
    "import numpy as np \n",
    "from sklearn.model_selection import train_test_split\n",
    "from tensorflow.keras.preprocessing.sequence import pad_sequences\n",
    "from tensorflow.keras.utils import to_categorical\n",
    "\n",
    "def get_pad(dataset_grouped, word_vocab, tag_vocab, maxlen):\n",
    "\n",
    "    #get max token and tag length\n",
    "    n_token = len(word_vocab)\n",
    "    n_tag = len(tag_vocab)\n",
    "\n",
    "    #Pad tokens (X var)    \n",
    "    tokens = dataset_grouped['word_idx'].tolist()\n",
    "    # maxlen = max([len(s) for s in tokens])\n",
    "    pad_tokens = pad_sequences(tokens, maxlen=maxlen, dtype='int32', padding='post', value= n_token - 1)\n",
    "\n",
    "    #Pad Tags (y var) and convert it into one hot encoding\n",
    "    tags = dataset_grouped['tag_idx'].tolist()\n",
    "    pad_tags = pad_sequences(tags, maxlen=maxlen, dtype='int32', padding='post', value= tag2idx[\"O\"])\n",
    "    n_tags = len(tag2idx)\n",
    "    pad_tags = [to_categorical(i, num_classes=n_tags) for i in pad_tags]\n",
    "    \n",
    "    #Split train, test and validation set\n",
    "    # tokens_, test_tokens, tags_, test_tags = train_test_split(pad_tokens, pad_tags, test_size=0.1, train_size=0.9, random_state=2020)\n",
    "    # train_tokens, val_tokens, train_tags, val_tags = train_test_split(tokens_,tags_,test_size = 0.25,train_size =0.75, random_state=2020)\n",
    "\n",
    "    # print(\n",
    "    #     'train_tokens length:', len(train_tokens),\n",
    "    #     '\\ntrain_tags length:', len(train_tags),\n",
    "    #     '\\ntest_tokens length:', len(test_tokens),\n",
    "    #     '\\ntest_tags:', len(test_tags),\n",
    "    #     '\\nval_tokens:', len(val_tokens),\n",
    "    #     '\\nval_tags:', len(val_tags),\n",
    "    # )\n",
    "    \n",
    "    return pad_tokens, pad_tags"
   ]
  },
  {
   "cell_type": "code",
   "execution_count": 48,
   "metadata": {
    "colab": {
     "base_uri": "https://localhost:8080/"
    },
    "id": "AmspkDNsi1DM",
    "outputId": "6efe239a-b8dd-4091-fcab-c33453498aac"
   },
   "outputs": [
    {
     "name": "stdout",
     "output_type": "stream",
     "text": [
      "train_tags:  (672, 46, 11) test_tags:  (101, 46, 11)\n"
     ]
    }
   ],
   "source": [
    "train_tokens, train_tags = get_pad(train_df_group, token_vocab, tag_vocab, maxlen_train)\n",
    "test_tokens,  test_tags = get_pad(test_df_group, token_vocab, tag_vocab, maxlen_train)\n",
    "train_tags = np.array(train_tags)\n",
    "test_tags = np.array(test_tags)\n",
    "print('train_tags: ',train_tags.shape,'test_tags: ',test_tags.shape)"
   ]
  },
  {
   "cell_type": "code",
   "execution_count": 49,
   "metadata": {
    "colab": {
     "base_uri": "https://localhost:8080/"
    },
    "id": "ZhIsi2jHi55S",
    "outputId": "fd91f4b7-0573-4c8d-c8af-2748564b68c1"
   },
   "outputs": [
    {
     "name": "stdout",
     "output_type": "stream",
     "text": [
      "30912\n"
     ]
    }
   ],
   "source": [
    "from sklearn.utils import class_weight\n",
    "\n",
    "train_temp_tags = np.ravel(np.argmax(train_tags, axis=-1))\n",
    "print(len(train_temp_tags))"
   ]
  },
  {
   "cell_type": "code",
   "execution_count": 50,
   "metadata": {
    "colab": {
     "base_uri": "https://localhost:8080/"
    },
    "id": "dJ52odshi-Ku",
    "outputId": "32c6ce09-7cb6-425f-8e9a-36f2c0c9703f"
   },
   "outputs": [
    {
     "name": "stdout",
     "output_type": "stream",
     "text": [
      "{0: 0.093898082671138, 1: 104.08080808080808, 2: 62.448484848484846, 3: 18.860280658938375, 4: 70.25454545454545, 5: 38.49564134495641, 6: 8.541586073500968, 7: 78.06060606060606, 8: 43.23356643356643, 9: 19.93036750483559, 10: 35.57192174913694}\n",
      "(672, 46)\n",
      "(672, 46)\n"
     ]
    }
   ],
   "source": [
    "class_weights = class_weight.compute_class_weight(\n",
    "    class_weight ='balanced', \n",
    "    classes = np.unique(train_temp_tags), \n",
    "    y = train_temp_tags\n",
    "    )\n",
    "class_weight_dict = dict(enumerate(class_weights))\n",
    "print(class_weight_dict)\n",
    "\n",
    "train_label = np.argmax(train_tags, axis=-1)\n",
    "print(train_tokens.shape)\n",
    "print(train_label.shape)"
   ]
  },
  {
   "cell_type": "code",
   "execution_count": 51,
   "metadata": {
    "id": "KIlyLIqkjDSm"
   },
   "outputs": [],
   "source": [
    "import numpy as np\n",
    "import tensorflow\n",
    "from tensorflow.keras.models import Sequential, Model\n",
    "from tensorflow.keras.layers import LSTM, Embedding, Dense, TimeDistributed, Dropout, Bidirectional, Input\n",
    "from tensorflow.keras.utils import plot_model\n",
    "from numpy.random import seed\n",
    "seed(1)\n",
    "tensorflow.random.set_seed(2)"
   ]
  },
  {
   "cell_type": "code",
   "execution_count": 94,
   "metadata": {
    "id": "WTglXBUWjGCd"
   },
   "outputs": [],
   "source": [
    "input_dim = len(idx2token) + 1\n",
    "output_dim = 64\n",
    "input_length = maxlen_train\n",
    "n_tags = len(tag2idx)"
   ]
  },
  {
   "cell_type": "code",
   "execution_count": 95,
   "metadata": {},
   "outputs": [],
   "source": [
    "# Use early stopping for preventing overfitting\n",
    "callback = tf.keras.callbacks.EarlyStopping(monitor='loss', patience=3)"
   ]
  },
  {
   "cell_type": "code",
   "execution_count": 96,
   "metadata": {
    "id": "QYsRGIfVjJq0"
   },
   "outputs": [],
   "source": [
    "def get_bilstm_lstm_model():\n",
    "    model = Sequential()\n",
    "    model.add(Embedding(input_dim=input_dim, output_dim=output_dim, input_length=input_length))\n",
    "    model.add(Bidirectional(LSTM(units=output_dim, return_sequences=True, dropout=0.2, recurrent_dropout=0.2), merge_mode = 'concat'))\n",
    "#     model.add(LSTM(units=output_dim, return_sequences=True, dropout=0.3, recurrent_dropout=0.3))\n",
    "    model.add((Dense(n_tags, activation=\"softmax\")))\n",
    "\n",
    "    model.compile(loss='sparse_categorical_crossentropy', optimizer='adam', metrics=['accuracy'])\n",
    "    model.summary()\n",
    "    \n",
    "    return model"
   ]
  },
  {
   "cell_type": "code",
   "execution_count": 97,
   "metadata": {
    "colab": {
     "base_uri": "https://localhost:8080/"
    },
    "id": "T8RoLnEojMwv",
    "outputId": "79082e3b-9dbf-443b-aa21-8f5248d8d628"
   },
   "outputs": [
    {
     "name": "stdout",
     "output_type": "stream",
     "text": [
      "{0: 0.093898082671138, 1: 104.08080808080808, 2: 62.448484848484846, 3: 18.860280658938375, 4: 70.25454545454545, 5: 38.49564134495641, 6: 8.541586073500968, 7: 78.06060606060606, 8: 43.23356643356643, 9: 19.93036750483559, 10: 35.57192174913694}\n",
      "(672, 46)\n"
     ]
    }
   ],
   "source": [
    "maj_index = tag2idx['O']\n",
    "\n",
    "''' Change it More for Better Fine-Tuning '''\n",
    "\n",
    "# class_weight_dict[maj_index] = 28.5277954105731576 \n",
    "print(class_weight_dict)\n",
    "sample_weights = np.ones(shape=(len(train_label), train_label.shape[-1]))\n",
    "for i in range(10):\n",
    "    sample_weights[train_label == i] = class_weight_dict.get(i)\n",
    "print(sample_weights.shape)"
   ]
  },
  {
   "cell_type": "code",
   "execution_count": 98,
   "metadata": {
    "colab": {
     "base_uri": "https://localhost:8080/"
    },
    "id": "igkAuFiUjWxl",
    "outputId": "037e0e7f-a3e1-41e8-c75b-84cda712c0ee"
   },
   "outputs": [
    {
     "name": "stdout",
     "output_type": "stream",
     "text": [
      "Model: \"sequential_5\"\n",
      "_________________________________________________________________\n",
      "Layer (type)                 Output Shape              Param #   \n",
      "=================================================================\n",
      "embedding_5 (Embedding)      (None, 46, 64)            19904     \n",
      "_________________________________________________________________\n",
      "bidirectional_5 (Bidirection (None, 46, 128)           66048     \n",
      "_________________________________________________________________\n",
      "dense_5 (Dense)              (None, 46, 11)            1419      \n",
      "=================================================================\n",
      "Total params: 87,371\n",
      "Trainable params: 87,371\n",
      "Non-trainable params: 0\n",
      "_________________________________________________________________\n",
      "Failed to import pydot. You must install pydot and graphviz for `pydotprint` to work.\n",
      "Train on 537 samples, validate on 135 samples\n",
      "Epoch 1/10\n",
      "537/537 [==============================] - 20s 38ms/sample - loss: 1.7308 - accuracy: 0.8869 - val_loss: 0.3016 - val_accuracy: 0.9691\n",
      "Epoch 2/10\n",
      "537/537 [==============================] - 2s 5ms/sample - loss: 0.1970 - accuracy: 0.9679 - val_loss: 0.1777 - val_accuracy: 0.9691\n",
      "Epoch 3/10\n",
      "537/537 [==============================] - 2s 5ms/sample - loss: 0.1605 - accuracy: 0.9679 - val_loss: 0.1529 - val_accuracy: 0.9691\n",
      "Epoch 4/10\n",
      "537/537 [==============================] - 2s 4ms/sample - loss: 0.1370 - accuracy: 0.9679 - val_loss: 0.1502 - val_accuracy: 0.9691\n",
      "Epoch 5/10\n",
      "537/537 [==============================] - 2s 4ms/sample - loss: 0.1302 - accuracy: 0.9679 - val_loss: 0.1473 - val_accuracy: 0.9691\n",
      "Epoch 6/10\n",
      "537/537 [==============================] - 2s 4ms/sample - loss: 0.1241 - accuracy: 0.9679 - val_loss: 0.1433 - val_accuracy: 0.9691\n",
      "Epoch 7/10\n",
      "537/537 [==============================] - 2s 4ms/sample - loss: 0.1195 - accuracy: 0.9679 - val_loss: 0.1402 - val_accuracy: 0.9691\n",
      "Epoch 8/10\n",
      "537/537 [==============================] - 2s 4ms/sample - loss: 0.1140 - accuracy: 0.9679 - val_loss: 0.1356 - val_accuracy: 0.9691\n",
      "Epoch 9/10\n",
      "537/537 [==============================] - 2s 4ms/sample - loss: 0.1080 - accuracy: 0.9679 - val_loss: 0.1305 - val_accuracy: 0.9691\n",
      "Epoch 10/10\n",
      "537/537 [==============================] - 2s 4ms/sample - loss: 0.1025 - accuracy: 0.9684 - val_loss: 0.1244 - val_accuracy: 0.9691\n"
     ]
    }
   ],
   "source": [
    "nlp_model = get_bilstm_lstm_model()\n",
    "plot_model(nlp_model)\n",
    "his = nlp_model.fit(train_tokens, train_label , batch_size = 32, epochs=10, validation_split=0.2, callbacks=[callback]) \n",
    "tf.keras.models.save_model(nlp_model, filepath  = \"./model/ner_drone_290322_1655.h5\")"
   ]
  },
  {
   "cell_type": "code",
   "execution_count": 99,
   "metadata": {
    "colab": {
     "base_uri": "https://localhost:8080/",
     "height": 545
    },
    "id": "_WZwdWMnjmeK",
    "outputId": "0996c8fd-6879-4473-f296-b5ecb799f81d"
   },
   "outputs": [
    {
     "data": {
      "image/png": "[encoded data removed]",
      "text/plain": [
       "<Figure size 432x288 with 1 Axes>"
      ]
     },
     "metadata": {},
     "output_type": "display_data"
    },
    {
     "data": {
      "image/png": "[encoded data removed]",
      "text/plain": [
       "<Figure size 432x288 with 1 Axes>"
      ]
     },
     "metadata": {},
     "output_type": "display_data"
    }
   ],
   "source": [
    "# Plot results\n",
    "import matplotlib.pyplot as plt\n",
    "\n",
    "accuracy = his.history['accuracy']\n",
    "val_acc = his.history['val_accuracy']\n",
    "loss = his.history['loss']\n",
    "val_loss = his.history['val_loss']\n",
    "\n",
    "epochs = range(1, len(accuracy)+1)\n",
    "\n",
    "plt.plot(epochs, accuracy, 'g', label='Training accuracy')\n",
    "plt.plot(epochs, val_acc, 'r', label='Validation accuracy')\n",
    "plt.title('Training and validation accuracy')\n",
    "plt.legend()\n",
    "\n",
    "plt.figure()\n",
    "\n",
    "plt.plot(epochs, loss, 'g', label='Training loss')\n",
    "plt.plot(epochs, val_loss, 'r', label='Validation loss')\n",
    "plt.title('Training and validation loss')\n",
    "plt.legend()\n",
    "\n",
    "plt.show()"
   ]
  },
  {
   "cell_type": "code",
   "execution_count": 100,
   "metadata": {
    "colab": {
     "base_uri": "https://localhost:8080/"
    },
    "id": "uJXbligXjtnn",
    "outputId": "a350263f-b264-4f4b-abc0-572486ca1800"
   },
   "outputs": [
    {
     "name": "stdout",
     "output_type": "stream",
     "text": [
      "(101, 46) (101, 46)\n",
      "101/101 [==============================] - 2s 18ms/sample - loss: 0.1809 - accuracy: 0.9576\n"
     ]
    },
    {
     "data": {
      "text/plain": [
       "[0.1809491733513256, 0.9575979]"
      ]
     },
     "execution_count": 100,
     "metadata": {},
     "output_type": "execute_result"
    }
   ],
   "source": [
    "nlp_model = tf.keras.models.load_model('./model/ner_drone_290322_1655.h5')\n",
    "\n",
    "y_test = np.argmax(test_tags, axis=-1)\n",
    "print(test_tokens.shape,y_test.shape)\n",
    "nlp_model.evaluate(test_tokens, y_test)"
   ]
  },
  {
   "cell_type": "code",
   "execution_count": 101,
   "metadata": {
    "id": "9GjfQTpxj1W1"
   },
   "outputs": [],
   "source": [
    "y_pred = nlp_model.predict(test_tokens)"
   ]
  },
  {
   "cell_type": "code",
   "execution_count": 102,
   "metadata": {
    "id": "hjlw5Du2j3op"
   },
   "outputs": [],
   "source": [
    "y_pred = np.argmax(y_pred, axis=-1)"
   ]
  },
  {
   "cell_type": "code",
   "execution_count": 103,
   "metadata": {
    "id": "JSxtP8I1j6Vq"
   },
   "outputs": [],
   "source": [
    "y_test_list = []\n",
    "y_pred_list = []\n",
    "for row in range(0, y_test.shape[0]):\n",
    "  y_pred_list = np.concatenate((y_pred_list, y_pred[row]), axis=0)\n",
    "  y_test_list = np.concatenate((y_test_list, y_test[row]), axis=0)\n",
    "  # y_test_list = y_test_list + y_test[row]"
   ]
  },
  {
   "cell_type": "code",
   "execution_count": 104,
   "metadata": {
    "id": "Ah4QpLHDj8yw"
   },
   "outputs": [],
   "source": [
    "data_prediction = pd.DataFrame({'actual_class': y_test_list, 'predicted_class': y_pred_list})\n",
    "data_prediction['actual_class'] = data_prediction['actual_class'].map(idx2tag)\n",
    "data_prediction['predicted_class'] = data_prediction['predicted_class'].map(idx2tag)"
   ]
  },
  {
   "cell_type": "code",
   "execution_count": 105,
   "metadata": {
    "colab": {
     "base_uri": "https://localhost:8080/",
     "height": 424
    },
    "id": "rW5Sy8eaj_yv",
    "outputId": "f229b768-2e7a-461b-edca-a948f401a441"
   },
   "outputs": [
    {
     "data": {
      "text/html": [
       "<div>\n",
       "<style scoped>\n",
       "    .dataframe tbody tr th:only-of-type {\n",
       "        vertical-align: middle;\n",
       "    }\n",
       "\n",
       "    .dataframe tbody tr th {\n",
       "        vertical-align: top;\n",
       "    }\n",
       "\n",
       "    .dataframe thead th {\n",
       "        text-align: right;\n",
       "    }\n",
       "</style>\n",
       "<table border=\"1\" class=\"dataframe\">\n",
       "  <thead>\n",
       "    <tr style=\"text-align: right;\">\n",
       "      <th></th>\n",
       "      <th>actual_class</th>\n",
       "      <th>predicted_class</th>\n",
       "    </tr>\n",
       "  </thead>\n",
       "  <tbody>\n",
       "    <tr>\n",
       "      <th>0</th>\n",
       "      <td>B-ACT</td>\n",
       "      <td>O</td>\n",
       "    </tr>\n",
       "    <tr>\n",
       "      <th>1</th>\n",
       "      <td>I-ACT</td>\n",
       "      <td>O</td>\n",
       "    </tr>\n",
       "    <tr>\n",
       "      <th>2</th>\n",
       "      <td>O</td>\n",
       "      <td>O</td>\n",
       "    </tr>\n",
       "    <tr>\n",
       "      <th>3</th>\n",
       "      <td>O</td>\n",
       "      <td>O</td>\n",
       "    </tr>\n",
       "    <tr>\n",
       "      <th>4</th>\n",
       "      <td>O</td>\n",
       "      <td>O</td>\n",
       "    </tr>\n",
       "    <tr>\n",
       "      <th>...</th>\n",
       "      <td>...</td>\n",
       "      <td>...</td>\n",
       "    </tr>\n",
       "    <tr>\n",
       "      <th>4641</th>\n",
       "      <td>O</td>\n",
       "      <td>O</td>\n",
       "    </tr>\n",
       "    <tr>\n",
       "      <th>4642</th>\n",
       "      <td>O</td>\n",
       "      <td>O</td>\n",
       "    </tr>\n",
       "    <tr>\n",
       "      <th>4643</th>\n",
       "      <td>O</td>\n",
       "      <td>O</td>\n",
       "    </tr>\n",
       "    <tr>\n",
       "      <th>4644</th>\n",
       "      <td>O</td>\n",
       "      <td>O</td>\n",
       "    </tr>\n",
       "    <tr>\n",
       "      <th>4645</th>\n",
       "      <td>O</td>\n",
       "      <td>O</td>\n",
       "    </tr>\n",
       "  </tbody>\n",
       "</table>\n",
       "<p>4646 rows × 2 columns</p>\n",
       "</div>"
      ],
      "text/plain": [
       "     actual_class predicted_class\n",
       "0           B-ACT               O\n",
       "1           I-ACT               O\n",
       "2               O               O\n",
       "3               O               O\n",
       "4               O               O\n",
       "...           ...             ...\n",
       "4641            O               O\n",
       "4642            O               O\n",
       "4643            O               O\n",
       "4644            O               O\n",
       "4645            O               O\n",
       "\n",
       "[4646 rows x 2 columns]"
      ]
     },
     "execution_count": 105,
     "metadata": {},
     "output_type": "execute_result"
    }
   ],
   "source": [
    "data_prediction"
   ]
  },
  {
   "cell_type": "code",
   "execution_count": 106,
   "metadata": {
    "colab": {
     "base_uri": "https://localhost:8080/",
     "height": 300
    },
    "id": "4EV02zwEkGkU",
    "outputId": "57dedde3-df06-4079-ec7b-d2cfb4682004"
   },
   "outputs": [
    {
     "data": {
      "text/html": [
       "<div>\n",
       "<style scoped>\n",
       "    .dataframe tbody tr th:only-of-type {\n",
       "        vertical-align: middle;\n",
       "    }\n",
       "\n",
       "    .dataframe tbody tr th {\n",
       "        vertical-align: top;\n",
       "    }\n",
       "\n",
       "    .dataframe thead th {\n",
       "        text-align: right;\n",
       "    }\n",
       "</style>\n",
       "<table border=\"1\" class=\"dataframe\">\n",
       "  <thead>\n",
       "    <tr style=\"text-align: right;\">\n",
       "      <th>actual_class</th>\n",
       "      <th>B-ACT</th>\n",
       "      <th>B-CMP</th>\n",
       "      <th>B-FNC</th>\n",
       "      <th>B-ISS</th>\n",
       "      <th>B-STE</th>\n",
       "      <th>I-ACT</th>\n",
       "      <th>I-CMP</th>\n",
       "      <th>I-FNC</th>\n",
       "      <th>I-ISS</th>\n",
       "      <th>I-STE</th>\n",
       "      <th>O</th>\n",
       "    </tr>\n",
       "    <tr>\n",
       "      <th>predicted_class</th>\n",
       "      <th></th>\n",
       "      <th></th>\n",
       "      <th></th>\n",
       "      <th></th>\n",
       "      <th></th>\n",
       "      <th></th>\n",
       "      <th></th>\n",
       "      <th></th>\n",
       "      <th></th>\n",
       "      <th></th>\n",
       "      <th></th>\n",
       "    </tr>\n",
       "  </thead>\n",
       "  <tbody>\n",
       "    <tr>\n",
       "      <th>O</th>\n",
       "      <td>34</td>\n",
       "      <td>54</td>\n",
       "      <td>18</td>\n",
       "      <td>18</td>\n",
       "      <td>18</td>\n",
       "      <td>2</td>\n",
       "      <td>10</td>\n",
       "      <td>8</td>\n",
       "      <td>18</td>\n",
       "      <td>17</td>\n",
       "      <td>4449</td>\n",
       "    </tr>\n",
       "  </tbody>\n",
       "</table>\n",
       "</div>"
      ],
      "text/plain": [
       "actual_class     B-ACT  B-CMP  B-FNC  B-ISS  B-STE  I-ACT  I-CMP  I-FNC  \\\n",
       "predicted_class                                                           \n",
       "O                   34     54     18     18     18      2     10      8   \n",
       "\n",
       "actual_class     I-ISS  I-STE     O  \n",
       "predicted_class                      \n",
       "O                   18     17  4449  "
      ]
     },
     "execution_count": 106,
     "metadata": {},
     "output_type": "execute_result"
    }
   ],
   "source": [
    "confusion_matrix = pd.crosstab(data_prediction['predicted_class'], data_prediction['actual_class'])\n",
    "confusion_matrix"
   ]
  },
  {
   "cell_type": "code",
   "execution_count": 107,
   "metadata": {
    "id": "Ogg06lVpkSoI"
   },
   "outputs": [],
   "source": [
    "from sklearn.metrics import classification_report"
   ]
  },
  {
   "cell_type": "code",
   "execution_count": 108,
   "metadata": {
    "colab": {
     "base_uri": "https://localhost:8080/",
     "height": 613
    },
    "id": "JMuDhw_hkU4z",
    "outputId": "6ba1a884-6c62-493c-d219-d1d34c610e7b"
   },
   "outputs": [
    {
     "name": "stderr",
     "output_type": "stream",
     "text": [
      "C:\\Users\\sward\\.conda\\envs\\Data Mining\\lib\\site-packages\\sklearn\\metrics\\_classification.py:1221: UndefinedMetricWarning: Precision and F-score are ill-defined and being set to 0.0 in labels with no predicted samples. Use `zero_division` parameter to control this behavior.\n",
      "  _warn_prf(average, modifier, msg_start, len(result))\n"
     ]
    },
    {
     "data": {
      "text/html": [
       "<div>\n",
       "<style scoped>\n",
       "    .dataframe tbody tr th:only-of-type {\n",
       "        vertical-align: middle;\n",
       "    }\n",
       "\n",
       "    .dataframe tbody tr th {\n",
       "        vertical-align: top;\n",
       "    }\n",
       "\n",
       "    .dataframe thead th {\n",
       "        text-align: right;\n",
       "    }\n",
       "</style>\n",
       "<table border=\"1\" class=\"dataframe\">\n",
       "  <thead>\n",
       "    <tr style=\"text-align: right;\">\n",
       "      <th></th>\n",
       "      <th>precision</th>\n",
       "      <th>recall</th>\n",
       "      <th>f1-score</th>\n",
       "      <th>support</th>\n",
       "    </tr>\n",
       "  </thead>\n",
       "  <tbody>\n",
       "    <tr>\n",
       "      <th>B-ACT</th>\n",
       "      <td>0.000000</td>\n",
       "      <td>0.000000</td>\n",
       "      <td>0.000000</td>\n",
       "      <td>34.000000</td>\n",
       "    </tr>\n",
       "    <tr>\n",
       "      <th>B-CMP</th>\n",
       "      <td>0.000000</td>\n",
       "      <td>0.000000</td>\n",
       "      <td>0.000000</td>\n",
       "      <td>54.000000</td>\n",
       "    </tr>\n",
       "    <tr>\n",
       "      <th>B-FNC</th>\n",
       "      <td>0.000000</td>\n",
       "      <td>0.000000</td>\n",
       "      <td>0.000000</td>\n",
       "      <td>18.000000</td>\n",
       "    </tr>\n",
       "    <tr>\n",
       "      <th>B-ISS</th>\n",
       "      <td>0.000000</td>\n",
       "      <td>0.000000</td>\n",
       "      <td>0.000000</td>\n",
       "      <td>18.000000</td>\n",
       "    </tr>\n",
       "    <tr>\n",
       "      <th>B-STE</th>\n",
       "      <td>0.000000</td>\n",
       "      <td>0.000000</td>\n",
       "      <td>0.000000</td>\n",
       "      <td>18.000000</td>\n",
       "    </tr>\n",
       "    <tr>\n",
       "      <th>I-ACT</th>\n",
       "      <td>0.000000</td>\n",
       "      <td>0.000000</td>\n",
       "      <td>0.000000</td>\n",
       "      <td>2.000000</td>\n",
       "    </tr>\n",
       "    <tr>\n",
       "      <th>I-CMP</th>\n",
       "      <td>0.000000</td>\n",
       "      <td>0.000000</td>\n",
       "      <td>0.000000</td>\n",
       "      <td>10.000000</td>\n",
       "    </tr>\n",
       "    <tr>\n",
       "      <th>I-FNC</th>\n",
       "      <td>0.000000</td>\n",
       "      <td>0.000000</td>\n",
       "      <td>0.000000</td>\n",
       "      <td>8.000000</td>\n",
       "    </tr>\n",
       "    <tr>\n",
       "      <th>I-ISS</th>\n",
       "      <td>0.000000</td>\n",
       "      <td>0.000000</td>\n",
       "      <td>0.000000</td>\n",
       "      <td>18.000000</td>\n",
       "    </tr>\n",
       "    <tr>\n",
       "      <th>I-STE</th>\n",
       "      <td>0.000000</td>\n",
       "      <td>0.000000</td>\n",
       "      <td>0.000000</td>\n",
       "      <td>17.000000</td>\n",
       "    </tr>\n",
       "    <tr>\n",
       "      <th>O</th>\n",
       "      <td>0.957598</td>\n",
       "      <td>1.000000</td>\n",
       "      <td>0.978340</td>\n",
       "      <td>4449.000000</td>\n",
       "    </tr>\n",
       "    <tr>\n",
       "      <th>accuracy</th>\n",
       "      <td>0.957598</td>\n",
       "      <td>0.957598</td>\n",
       "      <td>0.957598</td>\n",
       "      <td>0.957598</td>\n",
       "    </tr>\n",
       "    <tr>\n",
       "      <th>macro avg</th>\n",
       "      <td>0.087054</td>\n",
       "      <td>0.090909</td>\n",
       "      <td>0.088940</td>\n",
       "      <td>4646.000000</td>\n",
       "    </tr>\n",
       "    <tr>\n",
       "      <th>weighted avg</th>\n",
       "      <td>0.916994</td>\n",
       "      <td>0.957598</td>\n",
       "      <td>0.936856</td>\n",
       "      <td>4646.000000</td>\n",
       "    </tr>\n",
       "  </tbody>\n",
       "</table>\n",
       "</div>"
      ],
      "text/plain": [
       "              precision    recall  f1-score      support\n",
       "B-ACT          0.000000  0.000000  0.000000    34.000000\n",
       "B-CMP          0.000000  0.000000  0.000000    54.000000\n",
       "B-FNC          0.000000  0.000000  0.000000    18.000000\n",
       "B-ISS          0.000000  0.000000  0.000000    18.000000\n",
       "B-STE          0.000000  0.000000  0.000000    18.000000\n",
       "I-ACT          0.000000  0.000000  0.000000     2.000000\n",
       "I-CMP          0.000000  0.000000  0.000000    10.000000\n",
       "I-FNC          0.000000  0.000000  0.000000     8.000000\n",
       "I-ISS          0.000000  0.000000  0.000000    18.000000\n",
       "I-STE          0.000000  0.000000  0.000000    17.000000\n",
       "O              0.957598  1.000000  0.978340  4449.000000\n",
       "accuracy       0.957598  0.957598  0.957598     0.957598\n",
       "macro avg      0.087054  0.090909  0.088940  4646.000000\n",
       "weighted avg   0.916994  0.957598  0.936856  4646.000000"
      ]
     },
     "execution_count": 108,
     "metadata": {},
     "output_type": "execute_result"
    }
   ],
   "source": [
    "pd.DataFrame(classification_report(data_prediction['actual_class'], data_prediction['predicted_class'], output_dict=True)).T"
   ]
  },
  {
   "cell_type": "code",
   "execution_count": null,
   "metadata": {},
   "outputs": [],
   "source": []
  },
  {
   "cell_type": "code",
   "execution_count": null,
   "metadata": {},
   "outputs": [],
   "source": []
  },
  {
   "cell_type": "code",
   "execution_count": null,
   "metadata": {},
   "outputs": [],
   "source": []
  },
  {
   "cell_type": "code",
   "execution_count": null,
   "metadata": {},
   "outputs": [],
   "source": []
  }
 ],
 "metadata": {
  "colab": {
   "authorship_tag": "ABX9TyMHHxEnZlc/Rmu8mPCUCKfz",
   "include_colab_link": true,
   "name": "NER-Drone.ipynb",
   "provenance": []
  },
  "kernelspec": {
   "display_name": "Python 3",
   "language": "python",
   "name": "python3"
  },
  "language_info": {
   "codemirror_mode": {
    "name": "ipython",
    "version": 3
   },
   "file_extension": ".py",
   "mimetype": "text/x-python",
   "name": "python",
   "nbconvert_exporter": "python",
   "pygments_lexer": "ipython3",
   "version": "3.6.10"
  }
 },
 "nbformat": 4,
 "nbformat_minor": 1
}
